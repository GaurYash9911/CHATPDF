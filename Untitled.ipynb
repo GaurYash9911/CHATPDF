{
 "cells": [
  {
   "cell_type": "code",
   "execution_count": 1,
   "id": "cd3765ef",
   "metadata": {},
   "outputs": [
    {
     "name": "stdout",
     "output_type": "stream",
     "text": [
      "Requirement already satisfied: Flask in c:\\users\\gaurm\\anaconda3\\lib\\site-packages (1.1.2)\n",
      "Requirement already satisfied: Werkzeug>=0.15 in c:\\users\\gaurm\\anaconda3\\lib\\site-packages (from Flask) (2.0.3)\n",
      "Requirement already satisfied: itsdangerous>=0.24 in c:\\users\\gaurm\\anaconda3\\lib\\site-packages (from Flask) (2.0.1)\n",
      "Requirement already satisfied: Jinja2>=2.10.1 in c:\\users\\gaurm\\anaconda3\\lib\\site-packages (from Flask) (2.11.3)\n",
      "Requirement already satisfied: click>=5.1 in c:\\users\\gaurm\\anaconda3\\lib\\site-packages (from Flask) (8.0.4)\n",
      "Requirement already satisfied: colorama in c:\\users\\gaurm\\anaconda3\\lib\\site-packages (from click>=5.1->Flask) (0.4.4)\n",
      "Requirement already satisfied: MarkupSafe>=0.23 in c:\\users\\gaurm\\anaconda3\\lib\\site-packages (from Jinja2>=2.10.1->Flask) (2.0.1)\n",
      "Requirement already satisfied: PyPDF2 in c:\\users\\gaurm\\anaconda3\\lib\\site-packages (3.0.1)\n",
      "Requirement already satisfied: typing_extensions>=3.10.0.0 in c:\\users\\gaurm\\anaconda3\\lib\\site-packages (from PyPDF2) (4.1.1)\n",
      "Requirement already satisfied: OpenAI in c:\\users\\gaurm\\anaconda3\\lib\\site-packages (0.27.8)\n",
      "Requirement already satisfied: aiohttp in c:\\users\\gaurm\\anaconda3\\lib\\site-packages (from OpenAI) (3.8.1)\n",
      "Requirement already satisfied: requests>=2.20 in c:\\users\\gaurm\\anaconda3\\lib\\site-packages (from OpenAI) (2.27.1)\n",
      "Requirement already satisfied: tqdm in c:\\users\\gaurm\\anaconda3\\lib\\site-packages (from OpenAI) (4.64.0)\n",
      "Requirement already satisfied: certifi>=2017.4.17 in c:\\users\\gaurm\\anaconda3\\lib\\site-packages (from requests>=2.20->OpenAI) (2021.10.8)\n",
      "Requirement already satisfied: urllib3<1.27,>=1.21.1 in c:\\users\\gaurm\\anaconda3\\lib\\site-packages (from requests>=2.20->OpenAI) (1.26.9)\n",
      "Requirement already satisfied: charset-normalizer~=2.0.0 in c:\\users\\gaurm\\anaconda3\\lib\\site-packages (from requests>=2.20->OpenAI) (2.0.4)\n",
      "Requirement already satisfied: idna<4,>=2.5 in c:\\users\\gaurm\\anaconda3\\lib\\site-packages (from requests>=2.20->OpenAI) (3.3)\n",
      "Requirement already satisfied: attrs>=17.3.0 in c:\\users\\gaurm\\anaconda3\\lib\\site-packages (from aiohttp->OpenAI) (21.4.0)\n",
      "Requirement already satisfied: async-timeout<5.0,>=4.0.0a3 in c:\\users\\gaurm\\anaconda3\\lib\\site-packages (from aiohttp->OpenAI) (4.0.1)\n",
      "Requirement already satisfied: yarl<2.0,>=1.0 in c:\\users\\gaurm\\anaconda3\\lib\\site-packages (from aiohttp->OpenAI) (1.6.3)\n",
      "Requirement already satisfied: multidict<7.0,>=4.5 in c:\\users\\gaurm\\anaconda3\\lib\\site-packages (from aiohttp->OpenAI) (5.1.0)\n",
      "Requirement already satisfied: frozenlist>=1.1.1 in c:\\users\\gaurm\\anaconda3\\lib\\site-packages (from aiohttp->OpenAI) (1.2.0)\n",
      "Requirement already satisfied: aiosignal>=1.1.2 in c:\\users\\gaurm\\anaconda3\\lib\\site-packages (from aiohttp->OpenAI) (1.2.0)\n",
      "Requirement already satisfied: typing-extensions>=3.6.5 in c:\\users\\gaurm\\anaconda3\\lib\\site-packages (from async-timeout<5.0,>=4.0.0a3->aiohttp->OpenAI) (4.1.1)\n",
      "Requirement already satisfied: colorama in c:\\users\\gaurm\\anaconda3\\lib\\site-packages (from tqdm->OpenAI) (0.4.4)\n",
      "Requirement already satisfied: fitz in c:\\users\\gaurm\\anaconda3\\lib\\site-packages (0.0.1.dev2)\n",
      "Requirement already satisfied: scipy in c:\\users\\gaurm\\anaconda3\\lib\\site-packages (from fitz) (1.7.3)\n",
      "Requirement already satisfied: configobj in c:\\users\\gaurm\\anaconda3\\lib\\site-packages (from fitz) (5.0.8)\n",
      "Requirement already satisfied: configparser in c:\\users\\gaurm\\anaconda3\\lib\\site-packages (from fitz) (6.0.0)\n",
      "Requirement already satisfied: nibabel in c:\\users\\gaurm\\anaconda3\\lib\\site-packages (from fitz) (5.1.0)\n",
      "Requirement already satisfied: pandas in c:\\users\\gaurm\\anaconda3\\lib\\site-packages (from fitz) (1.4.2)\n",
      "Requirement already satisfied: nipype in c:\\users\\gaurm\\anaconda3\\lib\\site-packages (from fitz) (1.8.6)\n",
      "Requirement already satisfied: httplib2 in c:\\users\\gaurm\\anaconda3\\lib\\site-packages (from fitz) (0.22.0)\n",
      "Requirement already satisfied: numpy in c:\\users\\gaurm\\anaconda3\\lib\\site-packages (from fitz) (1.21.5)\n",
      "Requirement already satisfied: pyxnat in c:\\users\\gaurm\\anaconda3\\lib\\site-packages (from fitz) (1.6)\n",
      "Requirement already satisfied: six in c:\\users\\gaurm\\anaconda3\\lib\\site-packages (from configobj->fitz) (1.16.0)\n",
      "Requirement already satisfied: pyparsing!=3.0.0,!=3.0.1,!=3.0.2,!=3.0.3,<4,>=2.4.2 in c:\\users\\gaurm\\anaconda3\\lib\\site-packages (from httplib2->fitz) (3.0.4)\n",
      "Requirement already satisfied: packaging>=17 in c:\\users\\gaurm\\anaconda3\\lib\\site-packages (from nibabel->fitz) (21.3)\n",
      "Requirement already satisfied: python-dateutil>=2.2 in c:\\users\\gaurm\\anaconda3\\lib\\site-packages (from nipype->fitz) (2.8.2)\n",
      "Requirement already satisfied: etelemetry>=0.2.0 in c:\\users\\gaurm\\anaconda3\\lib\\site-packages (from nipype->fitz) (0.3.0)\n",
      "Requirement already satisfied: looseversion in c:\\users\\gaurm\\anaconda3\\lib\\site-packages (from nipype->fitz) (1.3.0)\n",
      "Requirement already satisfied: prov>=1.5.2 in c:\\users\\gaurm\\anaconda3\\lib\\site-packages (from nipype->fitz) (2.0.0)\n",
      "Requirement already satisfied: pydot>=1.2.3 in c:\\users\\gaurm\\anaconda3\\lib\\site-packages (from nipype->fitz) (1.4.2)\n",
      "Requirement already satisfied: simplejson>=3.8.0 in c:\\users\\gaurm\\anaconda3\\lib\\site-packages (from nipype->fitz) (3.19.1)\n",
      "Requirement already satisfied: click>=6.6.0 in c:\\users\\gaurm\\anaconda3\\lib\\site-packages (from nipype->fitz) (8.0.4)\n",
      "Requirement already satisfied: filelock>=3.0.0 in c:\\users\\gaurm\\anaconda3\\lib\\site-packages (from nipype->fitz) (3.6.0)\n",
      "Requirement already satisfied: networkx>=2.0 in c:\\users\\gaurm\\anaconda3\\lib\\site-packages (from nipype->fitz) (2.7.1)\n",
      "Requirement already satisfied: traits!=5.0,<6.4,>=4.6 in c:\\users\\gaurm\\anaconda3\\lib\\site-packages (from nipype->fitz) (6.3.2)\n",
      "Requirement already satisfied: rdflib>=5.0.0 in c:\\users\\gaurm\\anaconda3\\lib\\site-packages (from nipype->fitz) (7.0.0)\n",
      "Requirement already satisfied: colorama in c:\\users\\gaurm\\anaconda3\\lib\\site-packages (from click>=6.6.0->nipype->fitz) (0.4.4)\n",
      "Requirement already satisfied: ci-info>=0.2 in c:\\users\\gaurm\\anaconda3\\lib\\site-packages (from etelemetry>=0.2.0->nipype->fitz) (0.3.0)\n",
      "Requirement already satisfied: requests in c:\\users\\gaurm\\anaconda3\\lib\\site-packages (from etelemetry>=0.2.0->nipype->fitz) (2.27.1)\n",
      "Requirement already satisfied: lxml>=3.3.5 in c:\\users\\gaurm\\anaconda3\\lib\\site-packages (from prov>=1.5.2->nipype->fitz) (4.8.0)\n",
      "Requirement already satisfied: isodate<0.7.0,>=0.6.0 in c:\\users\\gaurm\\anaconda3\\lib\\site-packages (from rdflib>=5.0.0->nipype->fitz) (0.6.1)\n",
      "Requirement already satisfied: pytz>=2020.1 in c:\\users\\gaurm\\anaconda3\\lib\\site-packages (from pandas->fitz) (2021.3)\n",
      "Requirement already satisfied: future>=0.16 in c:\\users\\gaurm\\anaconda3\\lib\\site-packages (from pyxnat->fitz) (0.18.2)\n",
      "Requirement already satisfied: pathlib>=1.0 in c:\\users\\gaurm\\anaconda3\\lib\\site-packages (from pyxnat->fitz) (1.0.1)\n",
      "Requirement already satisfied: urllib3<1.27,>=1.21.1 in c:\\users\\gaurm\\anaconda3\\lib\\site-packages (from requests->etelemetry>=0.2.0->nipype->fitz) (1.26.9)\n",
      "Requirement already satisfied: charset-normalizer~=2.0.0 in c:\\users\\gaurm\\anaconda3\\lib\\site-packages (from requests->etelemetry>=0.2.0->nipype->fitz) (2.0.4)\n",
      "Requirement already satisfied: certifi>=2017.4.17 in c:\\users\\gaurm\\anaconda3\\lib\\site-packages (from requests->etelemetry>=0.2.0->nipype->fitz) (2021.10.8)\n",
      "Requirement already satisfied: idna<4,>=2.5 in c:\\users\\gaurm\\anaconda3\\lib\\site-packages (from requests->etelemetry>=0.2.0->nipype->fitz) (3.3)\n"
     ]
    }
   ],
   "source": [
    "!pip install Flask \n",
    "!pip install PyPDF2 \n",
    "!pip install OpenAI \n",
    "!pip install fitz"
   ]
  },
  {
   "cell_type": "code",
   "execution_count": 2,
   "id": "6514dcd2",
   "metadata": {},
   "outputs": [
    {
     "name": "stdout",
     "output_type": "stream",
     "text": [
      "Requirement already satisfied: Flask in c:\\users\\gaurm\\anaconda3\\lib\\site-packages (1.1.2)\n",
      "Requirement already satisfied: PyPDF2 in c:\\users\\gaurm\\anaconda3\\lib\\site-packages (3.0.1)\n",
      "Requirement already satisfied: openai in c:\\users\\gaurm\\anaconda3\\lib\\site-packages (0.27.8)\n",
      "Requirement already satisfied: Jinja2>=2.10.1 in c:\\users\\gaurm\\anaconda3\\lib\\site-packages (from Flask) (2.11.3)\n",
      "Requirement already satisfied: click>=5.1 in c:\\users\\gaurm\\anaconda3\\lib\\site-packages (from Flask) (8.0.4)\n",
      "Requirement already satisfied: itsdangerous>=0.24 in c:\\users\\gaurm\\anaconda3\\lib\\site-packages (from Flask) (2.0.1)\n",
      "Requirement already satisfied: Werkzeug>=0.15 in c:\\users\\gaurm\\anaconda3\\lib\\site-packages (from Flask) (2.0.3)\n",
      "Requirement already satisfied: typing_extensions>=3.10.0.0 in c:\\users\\gaurm\\anaconda3\\lib\\site-packages (from PyPDF2) (4.1.1)\n",
      "Requirement already satisfied: requests>=2.20 in c:\\users\\gaurm\\anaconda3\\lib\\site-packages (from openai) (2.27.1)\n",
      "Requirement already satisfied: aiohttp in c:\\users\\gaurm\\anaconda3\\lib\\site-packages (from openai) (3.8.1)\n",
      "Requirement already satisfied: tqdm in c:\\users\\gaurm\\anaconda3\\lib\\site-packages (from openai) (4.64.0)\n",
      "Requirement already satisfied: colorama in c:\\users\\gaurm\\anaconda3\\lib\\site-packages (from click>=5.1->Flask) (0.4.4)\n",
      "Requirement already satisfied: MarkupSafe>=0.23 in c:\\users\\gaurm\\anaconda3\\lib\\site-packages (from Jinja2>=2.10.1->Flask) (2.0.1)\n",
      "Requirement already satisfied: charset-normalizer~=2.0.0 in c:\\users\\gaurm\\anaconda3\\lib\\site-packages (from requests>=2.20->openai) (2.0.4)\n",
      "Requirement already satisfied: idna<4,>=2.5 in c:\\users\\gaurm\\anaconda3\\lib\\site-packages (from requests>=2.20->openai) (3.3)\n",
      "Requirement already satisfied: certifi>=2017.4.17 in c:\\users\\gaurm\\anaconda3\\lib\\site-packages (from requests>=2.20->openai) (2021.10.8)\n",
      "Requirement already satisfied: urllib3<1.27,>=1.21.1 in c:\\users\\gaurm\\anaconda3\\lib\\site-packages (from requests>=2.20->openai) (1.26.9)\n",
      "Requirement already satisfied: aiosignal>=1.1.2 in c:\\users\\gaurm\\anaconda3\\lib\\site-packages (from aiohttp->openai) (1.2.0)\n",
      "Requirement already satisfied: async-timeout<5.0,>=4.0.0a3 in c:\\users\\gaurm\\anaconda3\\lib\\site-packages (from aiohttp->openai) (4.0.1)\n",
      "Requirement already satisfied: attrs>=17.3.0 in c:\\users\\gaurm\\anaconda3\\lib\\site-packages (from aiohttp->openai) (21.4.0)\n",
      "Requirement already satisfied: frozenlist>=1.1.1 in c:\\users\\gaurm\\anaconda3\\lib\\site-packages (from aiohttp->openai) (1.2.0)\n",
      "Requirement already satisfied: yarl<2.0,>=1.0 in c:\\users\\gaurm\\anaconda3\\lib\\site-packages (from aiohttp->openai) (1.6.3)\n",
      "Requirement already satisfied: multidict<7.0,>=4.5 in c:\\users\\gaurm\\anaconda3\\lib\\site-packages (from aiohttp->openai) (5.1.0)\n"
     ]
    }
   ],
   "source": [
    "!pip install Flask PyPDF2 openai\n",
    "\n"
   ]
  },
  {
   "cell_type": "code",
   "execution_count": 3,
   "id": "0b6221fd",
   "metadata": {},
   "outputs": [],
   "source": [
    "import PyPDF2\n",
    "\n",
    "def extract_text_from_pdf(pdf_path):\n",
    "    text = \"\"\n",
    "    with open(pdf_path, \"rb\") as pdf_file:\n",
    "        pdf_reader = PyPDF2.PdfReader(pdf_file)\n",
    "        for page in pdf_reader.pages:\n",
    "            text += page.extract_text()\n",
    "    return text\n"
   ]
  },
  {
   "cell_type": "code",
   "execution_count": 4,
   "id": "93e8192e",
   "metadata": {},
   "outputs": [
    {
     "name": "stdout",
     "output_type": "stream",
     "text": [
      "Collecting transformers\n",
      "  Downloading transformers-4.31.0-py3-none-any.whl (7.4 MB)\n",
      "Collecting tokenizers!=0.11.3,<0.14,>=0.11.1\n",
      "  Downloading tokenizers-0.13.3-cp39-cp39-win_amd64.whl (3.5 MB)\n",
      "Requirement already satisfied: requests in c:\\users\\gaurm\\anaconda3\\lib\\site-packages (from transformers) (2.27.1)\n",
      "Requirement already satisfied: filelock in c:\\users\\gaurm\\anaconda3\\lib\\site-packages (from transformers) (3.6.0)\n",
      "Requirement already satisfied: packaging>=20.0 in c:\\users\\gaurm\\anaconda3\\lib\\site-packages (from transformers) (21.3)\n",
      "Collecting safetensors>=0.3.1\n",
      "  Downloading safetensors-0.3.2-cp39-cp39-win_amd64.whl (266 kB)\n",
      "Requirement already satisfied: regex!=2019.12.17 in c:\\users\\gaurm\\anaconda3\\lib\\site-packages (from transformers) (2022.3.15)\n",
      "Requirement already satisfied: pyyaml>=5.1 in c:\\users\\gaurm\\anaconda3\\lib\\site-packages (from transformers) (6.0)\n",
      "Collecting huggingface-hub<1.0,>=0.14.1\n",
      "  Downloading huggingface_hub-0.16.4-py3-none-any.whl (268 kB)\n",
      "Requirement already satisfied: tqdm>=4.27 in c:\\users\\gaurm\\anaconda3\\lib\\site-packages (from transformers) (4.64.0)\n",
      "Requirement already satisfied: numpy>=1.17 in c:\\users\\gaurm\\anaconda3\\lib\\site-packages (from transformers) (1.21.5)\n",
      "Requirement already satisfied: fsspec in c:\\users\\gaurm\\anaconda3\\lib\\site-packages (from huggingface-hub<1.0,>=0.14.1->transformers) (2022.2.0)\n",
      "Requirement already satisfied: typing-extensions>=3.7.4.3 in c:\\users\\gaurm\\anaconda3\\lib\\site-packages (from huggingface-hub<1.0,>=0.14.1->transformers) (4.1.1)\n",
      "Requirement already satisfied: pyparsing!=3.0.5,>=2.0.2 in c:\\users\\gaurm\\anaconda3\\lib\\site-packages (from packaging>=20.0->transformers) (3.0.4)\n",
      "Requirement already satisfied: colorama in c:\\users\\gaurm\\anaconda3\\lib\\site-packages (from tqdm>=4.27->transformers) (0.4.4)\n",
      "Requirement already satisfied: certifi>=2017.4.17 in c:\\users\\gaurm\\anaconda3\\lib\\site-packages (from requests->transformers) (2021.10.8)\n",
      "Requirement already satisfied: idna<4,>=2.5 in c:\\users\\gaurm\\anaconda3\\lib\\site-packages (from requests->transformers) (3.3)\n",
      "Requirement already satisfied: urllib3<1.27,>=1.21.1 in c:\\users\\gaurm\\anaconda3\\lib\\site-packages (from requests->transformers) (1.26.9)\n",
      "Requirement already satisfied: charset-normalizer~=2.0.0 in c:\\users\\gaurm\\anaconda3\\lib\\site-packages (from requests->transformers) (2.0.4)\n",
      "Installing collected packages: tokenizers, safetensors, huggingface-hub, transformers\n",
      "Successfully installed huggingface-hub-0.16.4 safetensors-0.3.2 tokenizers-0.13.3 transformers-4.31.0\n"
     ]
    }
   ],
   "source": [
    "!pip install transformers\n",
    "from transformers import pipeline\n",
    "\n",
    "def answer_question(context, question):\n",
    "    nlp = pipeline(\"question-answering\")\n",
    "    result = nlp(question=question, context=context)\n",
    "    return result['answer']\n"
   ]
  },
  {
   "cell_type": "code",
   "execution_count": null,
   "id": "0c3ceb30",
   "metadata": {},
   "outputs": [],
   "source": [
    "def main():\n",
    "    pdf_path = input(\"Enter the path to the PDF file: \")\n",
    "    pdf_text = extract_text_from_pdf(pdf_path)\n",
    "\n",
    "    while True:\n",
    "        user_question = input(\"Ask a question (or type 'exit' to quit): \")\n",
    "        if user_question.lower() == \"exit\":\n",
    "            break\n",
    "        answer = answer_question(pdf_text, user_question)\n",
    "        print(\"Answer:\", answer)\n",
    "\n",
    "if __name__ == \"__main__\":\n",
    "    main()\n"
   ]
  }
 ],
 "metadata": {
  "kernelspec": {
   "display_name": "Python 3 (ipykernel)",
   "language": "python",
   "name": "python3"
  },
  "language_info": {
   "codemirror_mode": {
    "name": "ipython",
    "version": 3
   },
   "file_extension": ".py",
   "mimetype": "text/x-python",
   "name": "python",
   "nbconvert_exporter": "python",
   "pygments_lexer": "ipython3",
   "version": "3.9.12"
  }
 },
 "nbformat": 4,
 "nbformat_minor": 5
}
